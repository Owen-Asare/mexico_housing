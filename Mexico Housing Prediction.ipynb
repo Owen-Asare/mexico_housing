{
 "cells": [
  {
   "cell_type": "code",
   "execution_count": 1,
   "id": "04eff405",
   "metadata": {},
   "outputs": [],
   "source": [
    "import warnings\n",
    "\n",
    "from glob import glob\n",
    "import matplotlib.pyplot as plt\n",
    "import pandas as pd\n",
    "from sklearn.linear_model import LinearRegression\n",
    "from sklearn.metrics import mean_absolute_error\n",
    "from sklearn.utils.validation import check_is_fitted\n",
    "\n",
    "warnings.simplefilter(action=\"ignore\", category=FutureWarning)"
   ]
  },
  {
   "cell_type": "code",
   "execution_count": 70,
   "id": "f9b8096e",
   "metadata": {},
   "outputs": [],
   "source": [
    "# Wrangle function that returns a dataframe from a filepath\n",
    "\n",
    "def wrangle(filepath):\n",
    "    mexico_df = pd.read_csv(filepath, index_col=0)\n",
    "    \n",
    "    # Subset to properties in Distrito Federal\n",
    "    mask_ba = mexico_df.place_with_parent_names.str.contains('Distrito Federal')\n",
    "    # Subset to apartments only\n",
    "    mask_apt = mexico_df.property_type == 'apartment'\n",
    "    # Subset to price_aprox_usd < 400_000\n",
    "    mask_price = mexico_df.price_aprox_usd < 400_000\n",
    "    \n",
    "    mexico_df = mexico_df[mask_ba & mask_apt & mask_price]\n",
    "    \n",
    "    # Removing Outliers by 'Surface_covered_in_m2'\n",
    "    low, high = mexico_df['surface_covered_in_m2'].quantile([0.1,0.9])\n",
    "    mask_area = mexico_df['surface_covered_in_m2'].between(low, high)\n",
    "    mexico_df = mexico_df[mask_area]\n",
    "    \n",
    "    \n",
    "    return mexico_df"
   ]
  },
  {
   "cell_type": "code",
   "execution_count": 71,
   "id": "877ebcfe",
   "metadata": {},
   "outputs": [],
   "source": [
    "mexico_df = wrangle('/Users/OWEN ADOM ASARE/Desktop/Projects/CSVs/mexico-city-real-estate-1.csv')"
   ]
  },
  {
   "cell_type": "code",
   "execution_count": 72,
   "id": "fcafdb28",
   "metadata": {},
   "outputs": [],
   "source": [
    "# Check your work\n",
    "assert (\n",
    "    len(mexico_df) <= 8606\n",
    "), f\"`df` should have no more than 8606 observations, not {len(mexico_df)}.\""
   ]
  },
  {
   "cell_type": "markdown",
   "id": "d3d9579f",
   "metadata": {},
   "source": [
    "## First Subsets\n",
    "For this project, we want to build a model for apartments in Mexico proper (\"Distrito Federal\") that cost less than $400,000. Looking at the first five rows of our DataFrame, we can already see that there properties that fall outside those parameters. So our first cleaning task is to remove those observations from our dataset. Since we're using a function to import and clean our data, we'll need to make changes there."
   ]
  },
  {
   "cell_type": "code",
   "execution_count": 73,
   "id": "5fc5a3ad",
   "metadata": {},
   "outputs": [
    {
     "data": {
      "text/html": [
       "<div>\n",
       "<style scoped>\n",
       "    .dataframe tbody tr th:only-of-type {\n",
       "        vertical-align: middle;\n",
       "    }\n",
       "\n",
       "    .dataframe tbody tr th {\n",
       "        vertical-align: top;\n",
       "    }\n",
       "\n",
       "    .dataframe thead th {\n",
       "        text-align: right;\n",
       "    }\n",
       "</style>\n",
       "<table border=\"1\" class=\"dataframe\">\n",
       "  <thead>\n",
       "    <tr style=\"text-align: right;\">\n",
       "      <th></th>\n",
       "      <th>operation</th>\n",
       "      <th>property_type</th>\n",
       "      <th>place_with_parent_names</th>\n",
       "      <th>lat-lon</th>\n",
       "      <th>price</th>\n",
       "      <th>currency</th>\n",
       "      <th>price_aprox_local_currency</th>\n",
       "      <th>price_aprox_usd</th>\n",
       "      <th>surface_total_in_m2</th>\n",
       "      <th>surface_covered_in_m2</th>\n",
       "      <th>price_usd_per_m2</th>\n",
       "      <th>price_per_m2</th>\n",
       "      <th>floor</th>\n",
       "      <th>rooms</th>\n",
       "      <th>expenses</th>\n",
       "      <th>properati_url</th>\n",
       "    </tr>\n",
       "  </thead>\n",
       "  <tbody>\n",
       "    <tr>\n",
       "      <th>1</th>\n",
       "      <td>sell</td>\n",
       "      <td>apartment</td>\n",
       "      <td>|Miguel Hidalgo|Distrito Federal|México|</td>\n",
       "      <td>23.634501,-102.552788</td>\n",
       "      <td>5500000.0</td>\n",
       "      <td>MXN</td>\n",
       "      <td>5450245.50</td>\n",
       "      <td>289775.66</td>\n",
       "      <td>NaN</td>\n",
       "      <td>54.0</td>\n",
       "      <td>NaN</td>\n",
       "      <td>101851.85190</td>\n",
       "      <td>NaN</td>\n",
       "      <td>NaN</td>\n",
       "      <td>NaN</td>\n",
       "      <td>http://miguel-hidalgo-df.properati.com.mx/o3zb...</td>\n",
       "    </tr>\n",
       "    <tr>\n",
       "      <th>3</th>\n",
       "      <td>sell</td>\n",
       "      <td>apartment</td>\n",
       "      <td>|Tlalpan|Distrito Federal|México|</td>\n",
       "      <td>19.279771,-99.234597</td>\n",
       "      <td>926667.0</td>\n",
       "      <td>MXN</td>\n",
       "      <td>918284.00</td>\n",
       "      <td>48822.82</td>\n",
       "      <td>NaN</td>\n",
       "      <td>100.0</td>\n",
       "      <td>NaN</td>\n",
       "      <td>9266.67000</td>\n",
       "      <td>NaN</td>\n",
       "      <td>NaN</td>\n",
       "      <td>NaN</td>\n",
       "      <td>http://tlalpan.properati.com.mx/qbi4_venta_dep...</td>\n",
       "    </tr>\n",
       "    <tr>\n",
       "      <th>6</th>\n",
       "      <td>sell</td>\n",
       "      <td>apartment</td>\n",
       "      <td>|Miguel Hidalgo|Distrito Federal|México|</td>\n",
       "      <td>19.432657,-99.177444</td>\n",
       "      <td>4416000.0</td>\n",
       "      <td>MXN</td>\n",
       "      <td>4376051.62</td>\n",
       "      <td>232663.51</td>\n",
       "      <td>NaN</td>\n",
       "      <td>87.0</td>\n",
       "      <td>NaN</td>\n",
       "      <td>50758.62069</td>\n",
       "      <td>NaN</td>\n",
       "      <td>NaN</td>\n",
       "      <td>NaN</td>\n",
       "      <td>http://anzures.properati.com.mx/opct_venta_dep...</td>\n",
       "    </tr>\n",
       "    <tr>\n",
       "      <th>7</th>\n",
       "      <td>sell</td>\n",
       "      <td>apartment</td>\n",
       "      <td>|Benito Juárez|Distrito Federal|México|</td>\n",
       "      <td>19.367025,-99.170349</td>\n",
       "      <td>3150000.0</td>\n",
       "      <td>MXN</td>\n",
       "      <td>3122244.47</td>\n",
       "      <td>166001.78</td>\n",
       "      <td>NaN</td>\n",
       "      <td>100.0</td>\n",
       "      <td>NaN</td>\n",
       "      <td>31500.00000</td>\n",
       "      <td>NaN</td>\n",
       "      <td>NaN</td>\n",
       "      <td>NaN</td>\n",
       "      <td>http://benito-juarez.properati.com.mx/r3a9_ven...</td>\n",
       "    </tr>\n",
       "    <tr>\n",
       "      <th>12</th>\n",
       "      <td>sell</td>\n",
       "      <td>apartment</td>\n",
       "      <td>|Benito Juárez|Distrito Federal|México|</td>\n",
       "      <td>23.634501,-102.552788</td>\n",
       "      <td>1784569.0</td>\n",
       "      <td>MXN</td>\n",
       "      <td>1768425.20</td>\n",
       "      <td>94022.66</td>\n",
       "      <td>NaN</td>\n",
       "      <td>57.0</td>\n",
       "      <td>NaN</td>\n",
       "      <td>31308.22807</td>\n",
       "      <td>NaN</td>\n",
       "      <td>NaN</td>\n",
       "      <td>NaN</td>\n",
       "      <td>http://benito-juarez.properati.com.mx/pdji_ven...</td>\n",
       "    </tr>\n",
       "  </tbody>\n",
       "</table>\n",
       "</div>"
      ],
      "text/plain": [
       "   operation property_type                   place_with_parent_names  \\\n",
       "1       sell     apartment  |Miguel Hidalgo|Distrito Federal|México|   \n",
       "3       sell     apartment         |Tlalpan|Distrito Federal|México|   \n",
       "6       sell     apartment  |Miguel Hidalgo|Distrito Federal|México|   \n",
       "7       sell     apartment   |Benito Juárez|Distrito Federal|México|   \n",
       "12      sell     apartment   |Benito Juárez|Distrito Federal|México|   \n",
       "\n",
       "                  lat-lon      price currency  price_aprox_local_currency  \\\n",
       "1   23.634501,-102.552788  5500000.0      MXN                  5450245.50   \n",
       "3    19.279771,-99.234597   926667.0      MXN                   918284.00   \n",
       "6    19.432657,-99.177444  4416000.0      MXN                  4376051.62   \n",
       "7    19.367025,-99.170349  3150000.0      MXN                  3122244.47   \n",
       "12  23.634501,-102.552788  1784569.0      MXN                  1768425.20   \n",
       "\n",
       "    price_aprox_usd  surface_total_in_m2  surface_covered_in_m2  \\\n",
       "1         289775.66                  NaN                   54.0   \n",
       "3          48822.82                  NaN                  100.0   \n",
       "6         232663.51                  NaN                   87.0   \n",
       "7         166001.78                  NaN                  100.0   \n",
       "12         94022.66                  NaN                   57.0   \n",
       "\n",
       "    price_usd_per_m2  price_per_m2  floor  rooms  expenses  \\\n",
       "1                NaN  101851.85190    NaN    NaN       NaN   \n",
       "3                NaN    9266.67000    NaN    NaN       NaN   \n",
       "6                NaN   50758.62069    NaN    NaN       NaN   \n",
       "7                NaN   31500.00000    NaN    NaN       NaN   \n",
       "12               NaN   31308.22807    NaN    NaN       NaN   \n",
       "\n",
       "                                        properati_url  \n",
       "1   http://miguel-hidalgo-df.properati.com.mx/o3zb...  \n",
       "3   http://tlalpan.properati.com.mx/qbi4_venta_dep...  \n",
       "6   http://anzures.properati.com.mx/opct_venta_dep...  \n",
       "7   http://benito-juarez.properati.com.mx/r3a9_ven...  \n",
       "12  http://benito-juarez.properati.com.mx/pdji_ven...  "
      ]
     },
     "execution_count": 73,
     "metadata": {},
     "output_type": "execute_result"
    }
   ],
   "source": [
    "mexico_df.head()"
   ]
  },
  {
   "cell_type": "code",
   "execution_count": 69,
   "id": "cccc2dd2",
   "metadata": {},
   "outputs": [
    {
     "data": {
      "image/png": "[encoded data removed]",
      "text/plain": [
       "<Figure size 640x480 with 1 Axes>"
      ]
     },
     "metadata": {},
     "output_type": "display_data"
    }
   ],
   "source": [
    "plt.hist(mexico_df['surface_covered_in_m2'])\n",
    "plt.xlabel(\"Area [sq meters]\")\n",
    "plt.title(\"Distribution of Apartments Sizes\");"
   ]
  },
  {
   "cell_type": "markdown",
   "id": "8e06d5fe",
   "metadata": {},
   "source": [
    "## NOTE\n",
    "This histogram has values ranging from 0 to 30_000 but seems to have been ploted in a small fraction. This indicates that there are outliers. To confirm this, a numerical exploration is done below"
   ]
  },
  {
   "cell_type": "code",
   "execution_count": 74,
   "id": "d1bee66e",
   "metadata": {},
   "outputs": [
    {
     "data": {
      "text/plain": [
       "count    1910.000000\n",
       "mean       77.341361\n",
       "std        19.126381\n",
       "min        50.000000\n",
       "25%        61.000000\n",
       "50%        74.000000\n",
       "75%        90.000000\n",
       "max       126.000000\n",
       "Name: surface_covered_in_m2, dtype: float64"
      ]
     },
     "execution_count": 74,
     "metadata": {},
     "output_type": "execute_result"
    }
   ],
   "source": [
    "mexico_df.describe()['surface_covered_in_m2']"
   ]
  },
  {
   "cell_type": "markdown",
   "id": "5ac7e4bc",
   "metadata": {},
   "source": [
    "Above is the numerical exploration. The minimum area is 0 which does not make sense to sell an apartment that has 0 surface area. Looking at the median of the data, it shows that 50% of the apartments have a surface area of 75 and below but the maximum area is 31840 indicating a spread out data(skewwed)\n",
    "\n",
    "\n",
    "\n",
    "In order to remove those extreme values of our dataset, we eliminate the bottom 10% and the top 10% in terms of area"
   ]
  },
  {
   "cell_type": "code",
   "execution_count": null,
   "id": "6b0c1a98",
   "metadata": {},
   "outputs": [],
   "source": []
  },
  {
   "cell_type": "markdown",
   "id": "b8f1e09d",
   "metadata": {},
   "source": [
    "Add to the wrangle function so that it removes observations that are outliers in the \"surface_covered_in_m2\" column. Specifically, all observations should fall between the 0.1 and 0.9 quantiles for \"surface_covered_in_m2\"."
   ]
  },
  {
   "cell_type": "code",
   "execution_count": 75,
   "id": "cf329f1c",
   "metadata": {},
   "outputs": [],
   "source": [
    "low, high = mexico_df['surface_covered_in_m2'].quantile([0.1,0.9])\n",
    "mask_area = mexico_df['surface_covered_in_m2'].between(low, high)"
   ]
  },
  {
   "cell_type": "markdown",
   "id": "cc31651b",
   "metadata": {},
   "source": [
    "## Updated Histogram with removed outliers"
   ]
  },
  {
   "cell_type": "code",
   "execution_count": 76,
   "id": "15c9f399",
   "metadata": {},
   "outputs": [
    {
     "data": {
      "image/png": "[encoded data removed]",
      "text/plain": [
       "<Figure size 640x480 with 1 Axes>"
      ]
     },
     "metadata": {},
     "output_type": "display_data"
    }
   ],
   "source": [
    "plt.hist(mexico_df['surface_covered_in_m2'])\n",
    "plt.xlabel(\"Area [sq meters]\")\n",
    "plt.title(\"Distribution of Apartments Sizes\");"
   ]
  },
  {
   "cell_type": "code",
   "execution_count": 79,
   "id": "cb44b0b8",
   "metadata": {},
   "outputs": [
    {
     "data": {
      "text/plain": [
       "(1910, 16)"
      ]
     },
     "execution_count": 79,
     "metadata": {},
     "output_type": "execute_result"
    }
   ],
   "source": [
    "mexico_df.shape"
   ]
  },
  {
   "cell_type": "code",
   "execution_count": 81,
   "id": "83de723a",
   "metadata": {},
   "outputs": [],
   "source": [
    "# Check your work\n",
    "assert len(mexico_df) <= 1990"
   ]
  },
  {
   "cell_type": "code",
   "execution_count": null,
   "id": "f06eb057",
   "metadata": {},
   "outputs": [],
   "source": []
  }
 ],
 "metadata": {
  "kernelspec": {
   "display_name": "Python 3 (ipykernel)",
   "language": "python",
   "name": "python3"
  },
  "language_info": {
   "codemirror_mode": {
    "name": "ipython",
    "version": 3
   },
   "file_extension": ".py",
   "mimetype": "text/x-python",
   "name": "python",
   "nbconvert_exporter": "python",
   "pygments_lexer": "ipython3",
   "version": "3.11.5"
  }
 },
 "nbformat": 4,
 "nbformat_minor": 5
}
